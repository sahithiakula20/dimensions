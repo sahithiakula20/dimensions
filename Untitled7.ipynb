{
  "nbformat": 4,
  "nbformat_minor": 0,
  "metadata": {
    "colab": {
      "provenance": [],
      "authorship_tag": "ABX9TyOiv/TKxvRbrZbzo3M+Vxjg",
      "include_colab_link": true
    },
    "kernelspec": {
      "name": "python3",
      "display_name": "Python 3"
    },
    "language_info": {
      "name": "python"
    }
  },
  "cells": [
    {
      "cell_type": "markdown",
      "metadata": {
        "id": "view-in-github",
        "colab_type": "text"
      },
      "source": [
        "<a href=\"https://colab.research.google.com/github/sahithiakula20/dimensions/blob/main/Untitled7.ipynb\" target=\"_parent\"><img src=\"https://colab.research.google.com/assets/colab-badge.svg\" alt=\"Open In Colab\"/></a>"
      ]
    },
    {
      "cell_type": "code",
      "source": [
        "#CNN\n",
        "import tensorflow as tf\n",
        "from tensorflow.keras.datasets import mnist\n",
        "from tensorflow.keras.models import Sequential\n",
        "from tensorflow.keras.layers import Conv2D,MaxPooling2D,Flatten,Dense,Dropout\n",
        "from tensorflow.keras.utils import to_categorical\n",
        "(x_train,y_train),(x_test,y_test)=mnist.load_data()\n",
        "x_train=x_train.reshape(x_train.shape[0],28,28,1).astype('float32')/255\n",
        "x_test=x_test.reshape(x_test.shape[0],28,28,1).astype('float32')/255\n",
        "y_train=to_categorical(y_train,10)\n",
        "y_test=to_categorical(y_test,10)\n",
        "model=Sequential()\n",
        "model.add(Conv2D(32,kernel_size=(3,3),activation='relu',\n",
        "                 input_shape=(28,28,1)))\n",
        "model.add(MaxPooling2D(pool_size=(2,2)))\n",
        "model.add(Conv2D(64,kernel_size=(3,3),activation='relu'))\n",
        "model.add(MaxPooling2D(pool_size=(2,2)))\n",
        "model.add(Flatten())\n",
        "model.add(Dense(128,activation='relu'))\n",
        "model.add(Dropout(0.5))\n",
        "model.add(Dense(10,activation='softmax'))\n",
        "model.compile(loss='categorical_crossentropy',optimizer='adam',metrics=['accuracy'])\n",
        "model.fit(x_train,y_train,validation_data=(x_test,y_test),epochs=10,batch_size=200,verbose=2)\n",
        "test_loss,test_acc=model.evaluate(x_test,y_test,verbose=0)\n",
        "print(f'Test accuracy:{test_acc*100:.2f}%')"
      ],
      "metadata": {
        "id": "2IEh72OZJyGJ",
        "outputId": "09f2be6a-b5ce-4db1-d5ea-c2d2924d1208",
        "colab": {
          "base_uri": "https://localhost:8080/"
        }
      },
      "execution_count": 11,
      "outputs": [
        {
          "output_type": "stream",
          "name": "stdout",
          "text": [
            "Epoch 1/10\n",
            "300/300 - 43s - loss: 0.3423 - accuracy: 0.8958 - val_loss: 0.0688 - val_accuracy: 0.9800 - 43s/epoch - 143ms/step\n",
            "Epoch 2/10\n",
            "300/300 - 41s - loss: 0.0995 - accuracy: 0.9699 - val_loss: 0.0433 - val_accuracy: 0.9861 - 41s/epoch - 137ms/step\n",
            "Epoch 3/10\n",
            "300/300 - 42s - loss: 0.0736 - accuracy: 0.9786 - val_loss: 0.0350 - val_accuracy: 0.9886 - 42s/epoch - 140ms/step\n",
            "Epoch 4/10\n",
            "300/300 - 41s - loss: 0.0595 - accuracy: 0.9824 - val_loss: 0.0311 - val_accuracy: 0.9889 - 41s/epoch - 136ms/step\n",
            "Epoch 5/10\n",
            "300/300 - 41s - loss: 0.0505 - accuracy: 0.9852 - val_loss: 0.0266 - val_accuracy: 0.9913 - 41s/epoch - 135ms/step\n",
            "Epoch 6/10\n",
            "300/300 - 41s - loss: 0.0433 - accuracy: 0.9865 - val_loss: 0.0256 - val_accuracy: 0.9917 - 41s/epoch - 135ms/step\n",
            "Epoch 7/10\n",
            "300/300 - 40s - loss: 0.0408 - accuracy: 0.9876 - val_loss: 0.0268 - val_accuracy: 0.9912 - 40s/epoch - 134ms/step\n",
            "Epoch 8/10\n",
            "300/300 - 41s - loss: 0.0336 - accuracy: 0.9900 - val_loss: 0.0261 - val_accuracy: 0.9913 - 41s/epoch - 135ms/step\n",
            "Epoch 9/10\n",
            "300/300 - 41s - loss: 0.0321 - accuracy: 0.9908 - val_loss: 0.0224 - val_accuracy: 0.9925 - 41s/epoch - 137ms/step\n",
            "Epoch 10/10\n",
            "300/300 - 41s - loss: 0.0303 - accuracy: 0.9905 - val_loss: 0.0206 - val_accuracy: 0.9942 - 41s/epoch - 136ms/step\n",
            "Test accuracy:99.42%\n"
          ]
        }
      ]
    }
  ]
}
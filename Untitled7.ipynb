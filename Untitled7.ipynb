{
  "nbformat": 4,
  "nbformat_minor": 0,
  "metadata": {
    "colab": {
      "provenance": [],
      "authorship_tag": "ABX9TyPzFPR3drFNEnLRNgXETjPW",
      "include_colab_link": true
    },
    "kernelspec": {
      "name": "python3",
      "display_name": "Python 3"
    },
    "language_info": {
      "name": "python"
    }
  },
  "cells": [
    {
      "cell_type": "markdown",
      "metadata": {
        "id": "view-in-github",
        "colab_type": "text"
      },
      "source": [
        "<a href=\"https://colab.research.google.com/github/sahithiakula20/dimensions/blob/main/Untitled7.ipynb\" target=\"_parent\"><img src=\"https://colab.research.google.com/assets/colab-badge.svg\" alt=\"Open In Colab\"/></a>"
      ]
    },
    {
      "cell_type": "code",
      "source": [
        "#sequence CLASSIFICATION\n",
        "import numpy as np\n",
        "import tensorflow as tf\n",
        "from tensorflow.keras.models import Sequential\n",
        "from tensorflow.keras.layers import Embedding, LSTM, Dense\n",
        "from tensorflow.keras.preprocessing.text import Tokenizer\n",
        "from tensorflow.keras.preprocessing.sequence import pad_sequences\n",
        "sentences = [\n",
        " \"I love this product\",\n",
        " \"This is terrible\",\n",
        " \"Great job!\",\n",
        " \"Not good at all\",\n",
        " \"Awesome stuff\"\n",
        "]\n",
        "labels = [1, 0, 1, 0, 1]\n",
        "tokenizer = Tokenizer(num_words=1000, oov_token=\"<OOV>\")\n",
        "tokenizer.fit_on_texts(sentences)\n",
        "word_index = tokenizer.word_index\n",
        "sequences = tokenizer.texts_to_sequences(sentences)\n",
        "max_sequence_length = max([len(seq) for seq in sequences])\n",
        "sequences_padded = pad_sequences(sequences, maxlen=max_sequence_length,\n",
        "padding=\"post\")\n",
        "model = Sequential()\n",
        "model.add(Embedding(input_dim=len(word_index) + 1, output_dim=64,\n",
        "input_length=max_sequence_length))\n",
        "model.add(LSTM(64))\n",
        "model.add(Dense(1, activation=\"sigmoid\"))\n",
        "model.compile(loss=\"binary_crossentropy\",optimizer=\"adam\",\n",
        "metrics=[\"accuracy\"])\n",
        "labels = np.array(labels)\n",
        "model.fit(sequences_padded, labels, epochs=10, batch_size=2)\n",
        "test_sentences = [\n",
        " \"This is very Bad\",\n",
        " \"I like it\",\n",
        " \"Excellent work\"\n",
        "]\n",
        "test_sequences = tokenizer.texts_to_sequences(test_sentences)\n",
        "test_sequences_padded = pad_sequences(test_sequences,\n",
        "maxlen=max_sequence_length, padding=\"post\")\n",
        "predictions = model.predict(test_sequences_padded)\n",
        "for i, sentence in enumerate(test_sentences):\n",
        " sentiment = \"Positive\" if predictions[i] > 0.5 else \"Negative\"\n",
        " print(\"Sentence: '{sentence}' - Sentiment: {sentiment} ({predictions[i][0]:.2f})\")\n"
      ],
      "metadata": {
        "colab": {
          "base_uri": "https://localhost:8080/"
        },
        "id": "AdtnQ1KWNJ0G",
        "outputId": "00b7c938-0faf-4ca6-e935-cb45517e19dc"
      },
      "execution_count": 13,
      "outputs": [
        {
          "output_type": "stream",
          "name": "stdout",
          "text": [
            "Epoch 1/10\n",
            "3/3 [==============================] - 2s 9ms/step - loss: 0.6946 - accuracy: 0.4000\n",
            "Epoch 2/10\n",
            "3/3 [==============================] - 0s 8ms/step - loss: 0.6854 - accuracy: 1.0000\n",
            "Epoch 3/10\n",
            "3/3 [==============================] - 0s 7ms/step - loss: 0.6774 - accuracy: 1.0000\n",
            "Epoch 4/10\n",
            "3/3 [==============================] - 0s 8ms/step - loss: 0.6690 - accuracy: 0.8000\n",
            "Epoch 5/10\n",
            "3/3 [==============================] - 0s 13ms/step - loss: 0.6615 - accuracy: 0.8000\n",
            "Epoch 6/10\n",
            "3/3 [==============================] - 0s 7ms/step - loss: 0.6487 - accuracy: 0.8000\n",
            "Epoch 7/10\n",
            "3/3 [==============================] - 0s 11ms/step - loss: 0.6349 - accuracy: 0.8000\n",
            "Epoch 8/10\n",
            "3/3 [==============================] - 0s 11ms/step - loss: 0.6158 - accuracy: 0.8000\n",
            "Epoch 9/10\n",
            "3/3 [==============================] - 0s 10ms/step - loss: 0.5957 - accuracy: 1.0000\n",
            "Epoch 10/10\n",
            "3/3 [==============================] - 0s 10ms/step - loss: 0.5681 - accuracy: 1.0000\n",
            "1/1 [==============================] - 1s 633ms/step\n",
            "Sentence: '{sentence}' - Sentiment: {sentiment} ({predictions[i][0]:.2f})\n",
            "Sentence: '{sentence}' - Sentiment: {sentiment} ({predictions[i][0]:.2f})\n",
            "Sentence: '{sentence}' - Sentiment: {sentiment} ({predictions[i][0]:.2f})\n"
          ]
        }
      ]
    }
  ]
}
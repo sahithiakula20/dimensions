{
  "nbformat": 4,
  "nbformat_minor": 0,
  "metadata": {
    "colab": {
      "provenance": [],
      "authorship_tag": "ABX9TyO7W48pB6NO2KncMSpmEyzI",
      "include_colab_link": true
    },
    "kernelspec": {
      "name": "python3",
      "display_name": "Python 3"
    },
    "language_info": {
      "name": "python"
    }
  },
  "cells": [
    {
      "cell_type": "markdown",
      "metadata": {
        "id": "view-in-github",
        "colab_type": "text"
      },
      "source": [
        "<a href=\"https://colab.research.google.com/github/sahithiakula20/dimensions/blob/main/Untitled7.ipynb\" target=\"_parent\"><img src=\"https://colab.research.google.com/assets/colab-badge.svg\" alt=\"Open In Colab\"/></a>"
      ]
    },
    {
      "cell_type": "code",
      "execution_count": null,
      "metadata": {
        "colab": {
          "base_uri": "https://localhost:8080/"
        },
        "id": "YVKV5LoWA6xU",
        "outputId": "8f0c02a0-02bb-4733-ae6e-5cea2587be98"
      },
      "outputs": [
        {
          "output_type": "stream",
          "name": "stdout",
          "text": [
            "Downloading data from https://storage.googleapis.com/tensorflow/tf-keras-datasets/mnist.npz\n",
            "11490434/11490434 [==============================] - 0s 0us/step\n"
          ]
        }
      ],
      "source": [
        "#Train and evaluate\n",
        "import tensorflow as tf\n",
        "from tensorflow.keras.datasets import mnist\n",
        "from tensorflow.keras.models import Sequential\n",
        "from tensorflow.keras.layers import Dense, Flatten\n",
        "from tensorflow.keras.utils import to_categorical\n",
        "\n",
        "# Load and preprocess the MNIST dataset\n",
        "(x_train, y_train), (x_test, y_test) = mnist.load_data()\n",
        "x_train, x_test = x_train / 255.0, x_test / 255.0\n",
        "y_train, y_test = to_categorical(y_train, 10), to_categorical(y_test, 10)\n",
        "\n",
        "# Build the neural network model\n",
        "model = Sequential([\n",
        "    Flatten(input_shape=(28, 28)),\n",
        "    Dense(128, activation='relu'),\n",
        "    Dense(64, activation='relu'),\n",
        "    Dense(10, activation='softmax')\n",
        "])"
      ]
    },
    {
      "cell_type": "code",
      "source": [],
      "metadata": {
        "id": "FHMAiF6zBcLB"
      },
      "execution_count": null,
      "outputs": []
    },
    {
      "cell_type": "code",
      "source": [
        "#binary classification\n",
        "import numpy as np\n",
        "import tensorflow as tf\n",
        "from sklearn.model_selection import train_test_split\n",
        "from sklearn.metrics import accuracy_score\n",
        "\n",
        "# Generate a simple binary classification dataset\n",
        "np.random.seed(42)\n",
        "X = np.random.rand(1000, 2)\n",
        "y = (X[:, 0] + X[:, 1] > 1).astype(int)\n",
        "\n",
        "# Split the dataset into train and test sets\n",
        "X_train, X_test, y_train, y_test = train_test_split(X, y, test_size=0.2, random_state=42)\n",
        "\n",
        "# Build the neural network model\n",
        "model = tf.keras.Sequential([\n",
        "    tf.keras.layers.Input(shape=(2,)),\n",
        "    tf.keras.layers.Dense(64, activation='relu'),\n",
        "    tf.keras.layers.Dense(1, activation='sigmoid')\n",
        "])\n",
        "\n",
        "# Compile the model\n",
        "model.compile(optimizer='adam',\n",
        "              loss='binary_crossentropy',\n",
        "              metrics=['accuracy'])\n",
        "\n",
        "# Train the model\n",
        "model.fit(X_train, y_train, epochs=10, batch_size=32, validation_split=0.2)\n",
        "\n",
        "# Evaluate the model on the test set\n",
        "y_pred = model.predict(X_test)\n",
        "y_pred_binary = (y_pred > 0.5).astype(int)\n",
        "test_accuracy = accuracy_score(y_test, y_pred_binary)\n",
        "print(f\"Test accuracy: {test_accuracy:.4f}\")"
      ],
      "metadata": {
        "id": "q9jxUdR1Bfmb",
        "outputId": "1cfa7ee4-eb19-4453-bb4f-eaceb4802a8b",
        "colab": {
          "base_uri": "https://localhost:8080/"
        }
      },
      "execution_count": 1,
      "outputs": [
        {
          "output_type": "stream",
          "name": "stdout",
          "text": [
            "Epoch 1/10\n",
            "20/20 [==============================] - 4s 43ms/step - loss: 0.6805 - accuracy: 0.5031 - val_loss: 0.6563 - val_accuracy: 0.5938\n",
            "Epoch 2/10\n",
            "20/20 [==============================] - 0s 8ms/step - loss: 0.6578 - accuracy: 0.5297 - val_loss: 0.6298 - val_accuracy: 0.6250\n",
            "Epoch 3/10\n",
            "20/20 [==============================] - 0s 11ms/step - loss: 0.6374 - accuracy: 0.5703 - val_loss: 0.6075 - val_accuracy: 0.6625\n",
            "Epoch 4/10\n",
            "20/20 [==============================] - 0s 15ms/step - loss: 0.6174 - accuracy: 0.6531 - val_loss: 0.5880 - val_accuracy: 0.6812\n",
            "Epoch 5/10\n",
            "20/20 [==============================] - 0s 21ms/step - loss: 0.5961 - accuracy: 0.6859 - val_loss: 0.5654 - val_accuracy: 0.6875\n",
            "Epoch 6/10\n",
            "20/20 [==============================] - 0s 10ms/step - loss: 0.5736 - accuracy: 0.7234 - val_loss: 0.5442 - val_accuracy: 0.7500\n",
            "Epoch 7/10\n",
            "20/20 [==============================] - 0s 13ms/step - loss: 0.5503 - accuracy: 0.7781 - val_loss: 0.5236 - val_accuracy: 0.8188\n",
            "Epoch 8/10\n",
            "20/20 [==============================] - 0s 18ms/step - loss: 0.5258 - accuracy: 0.7922 - val_loss: 0.4980 - val_accuracy: 0.8188\n",
            "Epoch 9/10\n",
            "20/20 [==============================] - 0s 11ms/step - loss: 0.5005 - accuracy: 0.8219 - val_loss: 0.4762 - val_accuracy: 0.8687\n",
            "Epoch 10/10\n",
            "20/20 [==============================] - 0s 11ms/step - loss: 0.4756 - accuracy: 0.8672 - val_loss: 0.4534 - val_accuracy: 0.9062\n",
            "7/7 [==============================] - 0s 4ms/step\n",
            "Test accuracy: 0.8800\n"
          ]
        }
      ]
    }
  ]
}